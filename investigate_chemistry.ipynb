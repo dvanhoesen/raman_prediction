{
 "cells": [
  {
   "cell_type": "code",
   "execution_count": 1,
   "id": "36b67485-17a7-4d44-9050-3c37a64679f1",
   "metadata": {},
   "outputs": [],
   "source": [
    "import numpy as np\n",
    "import os, sys\n",
    "import matplotlib.pyplot as plt\n",
    "\n",
    "%matplotlib ipympl"
   ]
  },
  {
   "cell_type": "code",
   "execution_count": 2,
   "id": "29083335-1dc4-477a-b7f6-dccd3f888943",
   "metadata": {},
   "outputs": [
    {
     "name": "stdout",
     "output_type": "stream",
     "text": [
      "averages shape:  (1315, 20)\n",
      "stddevs shape:  (1315, 20)\n",
      "oxide names shape:  (20,)\n",
      "spectrum names shape:  (1315,)\n",
      "spectrum ids shape:  (1315,)\n"
     ]
    }
   ],
   "source": [
    "# Extract data from Numpy files\n",
    "chem_avg_savename = 'extracted_chemistry_avg.npy'\n",
    "chem_stddev_savename = 'extracted_chemistry_stddev.npy'\n",
    "chem_names_savename = 'extracted_chemistry_oxide_names.npy'\n",
    "chem_spec_names_savename = 'extracted_chemistry_spec_names.npy'\n",
    "chem_spec_ids_savename = 'extracted_chemistry_spec_ids.npy'\n",
    "\n",
    "\n",
    "avgs = np.load(chem_avg_savename, allow_pickle=True)\n",
    "stddevs = np.load(chem_stddev_savename, allow_pickle=True)\n",
    "names_oxides = np.load(chem_names_savename, allow_pickle=True)\n",
    "names = np.load(chem_spec_names_savename, allow_pickle=True)\n",
    "ids = np.load(chem_spec_ids_savename, allow_pickle=True)\n",
    "\n",
    "\n",
    "print(\"averages shape: \", avgs.shape)\n",
    "print(\"stddevs shape: \", stddevs.shape)\n",
    "print(\"oxide names shape: \", names_oxides.shape)\n",
    "print(\"spectrum names shape: \", names.shape)\n",
    "print(\"spectrum ids shape: \", ids.shape)"
   ]
  },
  {
   "cell_type": "code",
   "execution_count": 5,
   "id": "6e9579a9-74ee-4125-939e-165e5ada3d45",
   "metadata": {},
   "outputs": [
    {
     "name": "stdout",
     "output_type": "stream",
     "text": [
      "\n",
      "weight %\tsample id\tsample name\n",
      "SiO2, TiO2, Al2O3, MgO, MnO, CaO, Na2O, K2O, P2O5, ZnO, SnO, H2O, Cr2O3, SO3, TeO2, PbO, CuO, FeOT, Fe2O3, FeO\n",
      "101.2000\tX050014 \tAlbite\n",
      "59.20, 0.00, 26.60, 0.00, 0.00, 7.98, 7.37, 0.05, 0.00, 0.00, 0.00, 0.00, 0.00, 0.00, 0.00, 0.00, 0.00, 0.00, 0.00, 0.00\n",
      "113.1997\tR070358-2 \tBarbosalite\n",
      "0.00, 0.00, 0.05, 0.01, 0.62, 0.01, 0.00, 0.00, 36.10, 0.00, 0.00, 0.00, 0.00, 0.01, 0.00, 0.00, 0.00, 0.00, 58.77, 17.63\n",
      "102.7060\tR060287-2 \tDiaspore\n",
      "0.02, 0.06, 84.20, 0.00, 0.01, 0.00, 0.00, 0.00, 0.00, 0.00, 0.00, 17.89, 0.00, 0.00, 0.00, 0.00, 0.00, 0.00, 0.00, 0.53\n",
      "102.2479\tR060546-2 \tDiaspore\n",
      "0.03, 0.06, 84.39, 0.00, 0.01, 0.00, 0.00, 0.00, 0.00, 0.00, 0.00, 17.14, 0.00, 0.00, 0.00, 0.00, 0.00, 0.00, 0.00, 0.62\n",
      "105.3907\tR070119-2 \tFerrieriteMg\n",
      "65.67, 0.01, 10.89, 2.32, 0.02, 1.07, 0.03, 1.45, 0.00, 0.00, 0.00, 22.92, 0.08, 0.00, 0.00, 0.00, 0.00, 0.00, 0.00, 0.93\n",
      "101.4229\tR050350-2 \tGlauberite\n",
      "0.00, 0.00, 0.02, 0.01, 0.00, 23.21, 21.26, 0.01, 0.00, 0.00, 0.00, 0.00, 0.00, 56.88, 0.00, 0.00, 0.00, 0.00, 0.00, 0.02\n",
      "105.5535\tR040010-2 \tMagnesiohastingsite\n",
      "38.38, 1.08, 12.86, 7.54, 4.33, 10.66, 2.43, 2.16, 0.00, 2.19, 0.00, 1.69, 0.01, 0.00, 0.00, 0.00, 0.00, 0.00, 6.76, 15.47\n",
      "101.0130\tR100107-2 \tMonticellite\n",
      "37.86, 0.01, 0.00, 22.86, 0.15, 36.22, 0.00, 0.00, 0.00, 0.01, 0.00, 0.00, 0.01, 0.00, 0.00, 0.00, 0.00, 0.00, 0.00, 3.90\n",
      "101.7446\tR060556-2 \tSapphirine\n",
      "15.01, 0.00, 63.84, 21.16, 0.00, 0.00, 0.00, 0.00, 0.00, 0.00, 0.00, 0.00, 0.00, 0.00, 0.00, 0.00, 0.00, 0.00, 0.00, 1.73\n",
      "101.4857\tR060787-2 \tSillimanite\n",
      "37.14, 0.01, 64.06, 0.02, 0.02, 0.00, 0.01, 0.00, 0.00, 0.00, 0.00, 0.00, 0.09, 0.00, 0.00, 0.00, 0.00, 0.00, 0.14, 0.00\n",
      "104.8301\tR040174-2 \tStellerite\n",
      "64.97, 0.02, 15.95, 0.07, 0.01, 8.43, 0.09, 0.10, 0.00, 0.00, 0.00, 15.18, 0.00, 0.00, 0.00, 0.00, 0.00, 0.00, 0.00, 0.01\n",
      "121.4962\tR140111-2 \tKryzhanovskite\n",
      "0.01, 0.00, 0.00, 0.13, 16.59, 0.01, 0.00, 0.00, 34.50, 0.01, 0.00, 0.00, 0.00, 0.00, 0.00, 0.00, 0.00, 0.00, 36.98, 33.27\n",
      "118.6089\tR160033-2 \tVarulite\n",
      "0.00, 0.00, 2.34, 3.41, 23.14, 0.57, 7.43, 0.00, 44.48, 0.00, 0.00, 0.00, 0.00, 0.00, 0.00, 0.00, 0.00, 0.00, 19.60, 17.64\n"
     ]
    }
   ],
   "source": [
    "# Look at the sums of the oxides to see if any greater than 100 or close to 0\n",
    "total_wt_percent = np.sum(avgs, axis=1)\n",
    "idxs_gt_100 = np.where(total_wt_percent > 101)\n",
    "spec_wt_percent_gt_100 = total_wt_percent[idxs_gt_100]\n",
    "spec_names_gt_100 = names[idxs_gt_100]\n",
    "spec_ids_gt_100 = ids[idxs_gt_100]\n",
    "spec_avgs_gt_100 = avgs[idxs_gt_100]\n",
    "\n",
    "print(\"\\n{}\\t{}\\t{}\".format(\"weight %\", \"sample id\", \"sample name\"))\n",
    "name_str = \", \".join(\"{}\".format(n) for n in names_oxides)\n",
    "print(name_str)\n",
    "\n",
    "for i in range(len(spec_names_gt_100)):\n",
    "    spec_name = spec_names_gt_100[i]\n",
    "    spec_id = spec_ids_gt_100[i]\n",
    "    spec_wt_percent = spec_wt_percent_gt_100[i]\n",
    "    spec_avg = spec_avgs_gt_100[i]\n",
    "    spec_avg_text = \", \".join(f\"{x:.2f}\" for x in spec_avg)\n",
    "\n",
    "    #print(\"{:.4f}\\t{}  \\t{}\\t\\t{}\".format(spec_wt_percent, spec_id, spec_name, spec_avg))\n",
    "    print(\"{:.4f}\\t{} \\t{}\\n{}\".format(spec_wt_percent, spec_id, spec_name, spec_avg_text))\n",
    "    #print(spec_avg_text)\n",
    "\n"
   ]
  },
  {
   "cell_type": "code",
   "execution_count": null,
   "id": "97a94059-0a91-4fff-8e08-2ba5ac6f0367",
   "metadata": {},
   "outputs": [],
   "source": []
  }
 ],
 "metadata": {
  "kernelspec": {
   "display_name": "Python 3 (ipykernel)",
   "language": "python",
   "name": "python3"
  },
  "language_info": {
   "codemirror_mode": {
    "name": "ipython",
    "version": 3
   },
   "file_extension": ".py",
   "mimetype": "text/x-python",
   "name": "python",
   "nbconvert_exporter": "python",
   "pygments_lexer": "ipython3",
   "version": "3.11.9"
  }
 },
 "nbformat": 4,
 "nbformat_minor": 5
}
